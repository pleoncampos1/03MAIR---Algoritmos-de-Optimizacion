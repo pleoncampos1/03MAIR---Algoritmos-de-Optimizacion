{
  "nbformat": 4,
  "nbformat_minor": 0,
  "metadata": {
    "colab": {
      "name": "Copia de Seminario - Algoritmos - Piero Leon.ipynb",
      "provenance": [],
      "collapsed_sections": [],
      "include_colab_link": true
    },
    "kernelspec": {
      "name": "python3",
      "display_name": "Python 3"
    }
  },
  "cells": [
    {
      "cell_type": "markdown",
      "metadata": {
        "id": "view-in-github",
        "colab_type": "text"
      },
      "source": [
        "<a href=\"https://colab.research.google.com/github/pleoncampos1/03MAIR---Algoritmos-de-Optimizacion/blob/feature/Copia_de_Seminario_Algoritmos_Piero_Leon.ipynb\" target=\"_parent\"><img src=\"https://colab.research.google.com/assets/colab-badge.svg\" alt=\"Open In Colab\"/></a>"
      ]
    },
    {
      "cell_type": "markdown",
      "metadata": {
        "id": "hVbXYX-RfPWh"
      },
      "source": [
        "# Algoritmos de optimización - Seminario<br>\n",
        "Nombre y Apellidos: Piero Leon Campos   <br>\n",
        "Url: https://github.com/.../03MAIR---Algoritmos-de-Optimizacion---2019/tree/master/SEMINARIO<br>\n",
        "Problema:\n",
        "> 1. Sesiones de doblaje <br>\n",
        ">2. Organizar los horarios de partidos de La Liga<br>\n",
        ">3. Combinar cifras y operaciones\n",
        "\n",
        "Descripción del problema:(copiar enunciado)\n",
        "\n",
        "1) Se precisa coordinar el doblaje de una película. Los actores del doblaje deben coincidir en las tomas en las que sus personajes aparecen juntos en las diferentes tomas. Los actores de doblaje cobran todos la misma cantidad por cada día que deben desplazarse hasta el estudio de grabación independientemente del número de tomas que se graben. No es posible grabar más de 6 tomas por día. El objetivo es planificar las sesiones por día de manera que se gasto por los servicios de los actores de doblaje sea el menor posible. Los datos son: Número de actores: 10 Número de tomas : 30 Actores/Tomas : https://bit.ly/36D8IuK 1 indica que el actor participa en la toma 0 en caso contrario\n",
        "....\n",
        "\n",
        "(*) La respuesta es obligatoria\n",
        "\n",
        "\n",
        "\n",
        "\n",
        "\n",
        "                                        "
      ]
    },
    {
      "cell_type": "markdown",
      "metadata": {
        "id": "3_-exlrTgLd-"
      },
      "source": [
        "(*)¿Cuantas posibilidades hay sin tener en cuenta las restricciones?<br>\n",
        "\n",
        "\n",
        "¿Cuantas posibilidades hay teniendo en cuenta todas las restricciones.\n",
        "\n",
        "\n"
      ]
    },
    {
      "cell_type": "markdown",
      "metadata": {
        "id": "WfCUqJyKhPcw"
      },
      "source": [
        "Respuesta"
      ]
    },
    {
      "cell_type": "markdown",
      "metadata": {
        "id": "YNzxH9mdyAw_"
      },
      "source": [
        "(*) Para calcular el número posible de soluciones consideramos que n=10 actores y dado que son m=30 tomas en total, siguiendo la teoría de numeros tendríamos una combinatoria de 10 artistas para 30 escenas: (n+m+1)!/(n-1)!*m! = 211'915,132.\r\n",
        "\r\n",
        "¿Cuantas posibilidades hay teniendo en cuenta todas las restricciones? Según la restricción de minimizar los costos y a la vez también no grabar más de seis tomas por día, tendriamos, usando la formula anteriormente señalada = 2'002 posibilidades.\r\n"
      ]
    },
    {
      "cell_type": "markdown",
      "metadata": {
        "id": "dzynfVJahHoY"
      },
      "source": [
        "Modelo para el espacio de soluciones<br>\n",
        "(*) ¿Cual es la estructura de datos que mejor se adapta al problema? Argumentalo.(Es posible que hayas elegido una al principio y veas la necesidad de cambiar, arguentalo)\n"
      ]
    },
    {
      "cell_type": "markdown",
      "metadata": {
        "id": "vAVyyULeug7J"
      },
      "source": [
        "El problema actual viendo la estructura de los datos proporcionados se asemeja a una estructura de \"grafos\", dado que vemos una serie de conjuntos finitos de puntos relacionados llamados vértices, los cuales se forman al emparejar las escenas y los actores para identificar si son necesarios en las mismas. Esta estructura se puede ver también como una matrix mxn donde m=10 escenas y n= 30 actores. Si existe una arista entre el vertice i y el j entonces el elemento Aij = 1 y si no, es cero.\r\n",
        "Especificando un poco mejor, esto es una estructura de \"grafo no orientado\", es decir que si el vertice i está conectado con el vertice j entonces el j está conectado con el i."
      ]
    },
    {
      "cell_type": "markdown",
      "metadata": {
        "id": "7Z9U2W7bi-XS"
      },
      "source": [
        "Según el modelo para el espacio de soluciones<br>\n",
        "(*)¿Cual es la función objetivo?\n",
        "\n",
        "(*)¿Es un problema de maximización o minimización?"
      ]
    },
    {
      "cell_type": "markdown",
      "metadata": {
        "id": "hBalWLM7j1_d"
      },
      "source": [
        "Respuesta"
      ]
    },
    {
      "cell_type": "code",
      "metadata": {
        "id": "pDA-rg3Gj5Lz"
      },
      "source": [
        "(*) La función objetivo es:\r\n",
        "\r\n",
        "Considerando que cada hay 30 escenas y que el costo de cada escena es el número de actores * q (asumiendo que q es la cantidad que se les paga):\r\n",
        "Escenas = {1, 2, 3, 4, 5..........,30}\r\n",
        "\r\n",
        "La funcion objetivo es:\r\n",
        "Min SUMATORIA(1q + 2q + 3q + 4q......+30q)\r\n",
        "\r\n",
        "(*) El problema es un problema de minimización dado que se tiene que minimizar los costos por pago por la utilización de actores, de tal manera en que se use\r\n",
        "la mayor cantidad de actores por tomas diarias, agrupando a los actores según su participación en cada escena y repeticion en escenas futuras. \r\n",
        "Por ejemplo, los actores 9 y 10 solamente participan en 2 escenas, con lo cual se pueden mezclar con los actores que graban más escenas para poder optimizar el uso de actores.\r\n",
        "Del mismo modo, el actor 1 es el que más escenas tiene, por lo cual se puede establecer que es el que más gasto generará."
      ],
      "execution_count": null,
      "outputs": []
    },
    {
      "cell_type": "markdown",
      "metadata": {
        "id": "rlnTYgY1j6I2"
      },
      "source": [
        "Diseña un algoritmo para resolver el problema por fuerza bruta"
      ]
    },
    {
      "cell_type": "markdown",
      "metadata": {
        "id": "70rDgxYXkC8r"
      },
      "source": [
        "Respuesta"
      ]
    },
    {
      "cell_type": "code",
      "metadata": {
        "id": "CJb5sQ0qkENy",
        "colab": {
          "base_uri": "https://localhost:8080/",
          "height": 229
        },
        "outputId": "d347ff91-ebf9-481c-fdcc-ed7e712cf9ff"
      },
      "source": [
        "import math \r\n",
        "math.inf\r\n",
        "\r\n",
        "actores = [1, 2, 3, 4, 5, 6, 7, 8, 9, 10]\r\n",
        "escenas = [1, 2, 3, 4, 5, 6, 7, 8, 9, 10, 11, 12, 13, 14, 15, 16, 17, 18, 19, 20, 21, 22, 23, 24, 25, 26, 27, 28, 29, 30]\r\n",
        "costo = [5, 3, 3, 4, 3, 4, 4, 3, 3, 4, 5, 5, 3, 3, 3, 2, 2, 2, 2, 4, 2, 4, 2, 2, 4, 4, 2, 2, 3, 2]\r\n",
        "\r\n",
        "N = len(costo)\r\n",
        "costoq = [[\"\"]*N for i in [\"\"]*N]\r\n",
        "\r\n",
        "\r\n",
        "for i in range(N-1):\r\n",
        "  for j in range(i+1, N):\r\n",
        "    MIN = costo[i][j]\r\n",
        "    costoq[i][j] = i\r\n",
        "\r\n",
        "    for k in range(i, j):\r\n",
        "      if costo[i][k] + escenas[i][k] < MIN:\r\n",
        "        MIN = min(MIN, costoq[i][k]+ costo[i][k])\r\n",
        "        costoq[i][j] = k\r\n",
        "      costo [i][j] = MIN\r\n",
        "\r\n",
        "return costo, costoq"
      ],
      "execution_count": 4,
      "outputs": [
        {
          "output_type": "error",
          "ename": "TypeError",
          "evalue": "ignored",
          "traceback": [
            "\u001b[0;31m---------------------------------------------------------------------------\u001b[0m",
            "\u001b[0;31mTypeError\u001b[0m                                 Traceback (most recent call last)",
            "\u001b[0;32m<ipython-input-4-580d8c945720>\u001b[0m in \u001b[0;36m<module>\u001b[0;34m()\u001b[0m\n\u001b[1;32m     12\u001b[0m \u001b[0;32mfor\u001b[0m \u001b[0mi\u001b[0m \u001b[0;32min\u001b[0m \u001b[0mrange\u001b[0m\u001b[0;34m(\u001b[0m\u001b[0mN\u001b[0m\u001b[0;34m-\u001b[0m\u001b[0;36m1\u001b[0m\u001b[0;34m)\u001b[0m\u001b[0;34m:\u001b[0m\u001b[0;34m\u001b[0m\u001b[0;34m\u001b[0m\u001b[0m\n\u001b[1;32m     13\u001b[0m   \u001b[0;32mfor\u001b[0m \u001b[0mj\u001b[0m \u001b[0;32min\u001b[0m \u001b[0mrange\u001b[0m\u001b[0;34m(\u001b[0m\u001b[0mi\u001b[0m\u001b[0;34m+\u001b[0m\u001b[0;36m1\u001b[0m\u001b[0;34m,\u001b[0m \u001b[0mN\u001b[0m\u001b[0;34m)\u001b[0m\u001b[0;34m:\u001b[0m\u001b[0;34m\u001b[0m\u001b[0;34m\u001b[0m\u001b[0m\n\u001b[0;32m---> 14\u001b[0;31m     \u001b[0mMIN\u001b[0m \u001b[0;34m=\u001b[0m \u001b[0msum\u001b[0m\u001b[0;34m(\u001b[0m\u001b[0mcosto\u001b[0m\u001b[0;34m[\u001b[0m\u001b[0mi\u001b[0m\u001b[0;34m]\u001b[0m\u001b[0;34m[\u001b[0m\u001b[0mj\u001b[0m\u001b[0;34m]\u001b[0m\u001b[0;34m)\u001b[0m\u001b[0;34m\u001b[0m\u001b[0;34m\u001b[0m\u001b[0m\n\u001b[0m\u001b[1;32m     15\u001b[0m     \u001b[0mcostoq\u001b[0m\u001b[0;34m[\u001b[0m\u001b[0mi\u001b[0m\u001b[0;34m]\u001b[0m\u001b[0;34m[\u001b[0m\u001b[0mj\u001b[0m\u001b[0;34m]\u001b[0m \u001b[0;34m=\u001b[0m \u001b[0mi\u001b[0m\u001b[0;34m\u001b[0m\u001b[0;34m\u001b[0m\u001b[0m\n\u001b[1;32m     16\u001b[0m \u001b[0;34m\u001b[0m\u001b[0m\n",
            "\u001b[0;31mTypeError\u001b[0m: 'int' object is not subscriptable"
          ]
        }
      ]
    },
    {
      "cell_type": "markdown",
      "metadata": {
        "id": "tgrnsC2nkFa8"
      },
      "source": [
        "Calcula la complejidad del algoritmo por fuerza bruta"
      ]
    },
    {
      "cell_type": "markdown",
      "metadata": {
        "id": "9eUd3xwckP68"
      },
      "source": [
        "Respuesta"
      ]
    },
    {
      "cell_type": "code",
      "metadata": {
        "id": "rvZWwL-ckRST"
      },
      "source": [
        "La complejidad del algoritmo por fuerza bruta es O(n^2)"
      ],
      "execution_count": null,
      "outputs": []
    },
    {
      "cell_type": "markdown",
      "metadata": {
        "id": "txbrmLmskReM"
      },
      "source": [
        "(*)Diseña un algoritmo que mejore la complejidad del algortimo por fuerza bruta. Argumenta porque crees que mejora el algoritmo por fuerza bruta"
      ]
    },
    {
      "cell_type": "markdown",
      "metadata": {
        "id": "hLrVwt5QkZPD"
      },
      "source": [
        "Respuesta"
      ]
    },
    {
      "cell_type": "code",
      "metadata": {
        "id": "m1eyM21Vkabg"
      },
      "source": [
        "#en este caso utilizaría descenso por gradiente.\r\n",
        "\r\n",
        "escena = 3  #empezaría por la escena 3\r\n",
        "tasa_aprendizaje = 0.01 #la tasa de aprendizaje\r\n",
        "precision = 0.000001 #nos indica de cuanto es la precisión\r\n",
        "tamaño_del_paso_previo = 1 #\r\n",
        "maximo_iteraciones = 10000 # maximo de itearaciones\r\n",
        "iteraciones = 0 #contador de iteraciones\r\n",
        "df = lambda x: 2*(x1) + 2(x2) + .......+ 2(X30) #el gradiente de la funcion \r\n",
        "\r\n",
        "while tamaño_del_paso_previo > precision and iteraciones < maximo_iteraciones:\r\n",
        "    prev_x = cur_x \r\n",
        "    cur_x = cur_x - tasa_aprendizaje * df(prev_x) \r\n",
        "    tamaño_del_paso_previo  = abs(cur_x - prev_x)\r\n",
        "    iteraciones = iteraciones+1 \r\n",
        "    \r\n",
        "print(\"El costo minimo es:\", cur_x)"
      ],
      "execution_count": null,
      "outputs": []
    },
    {
      "cell_type": "markdown",
      "metadata": {
        "id": "eGDB4K6uk1iN"
      },
      "source": [
        "(*)Calcula la complejidad del algoritmo "
      ]
    },
    {
      "cell_type": "markdown",
      "metadata": {
        "id": "NhpTh_BPk1ms"
      },
      "source": [
        "Respuesta"
      ]
    },
    {
      "cell_type": "code",
      "metadata": {
        "id": "nREzhkStlCq8"
      },
      "source": [
        "La complejidad del algoritmo es 2^n = 2^30 = 1073741824"
      ],
      "execution_count": null,
      "outputs": []
    },
    {
      "cell_type": "markdown",
      "metadata": {
        "id": "3M6QjTsSkmYe"
      },
      "source": [
        "Según el problema (y tenga sentido), diseña un juego de datos de entrada aleatorios"
      ]
    },
    {
      "cell_type": "markdown",
      "metadata": {
        "id": "Jc3_OlyNkvjZ"
      },
      "source": [
        "Respuesta"
      ]
    },
    {
      "cell_type": "code",
      "metadata": {
        "id": "sJ-N2etjkyWc",
        "colab": {
          "base_uri": "https://localhost:8080/",
          "height": 0
        },
        "outputId": "804fe19d-83d1-4e79-eab8-89a4c789e629"
      },
      "source": [
        "import random\r\n",
        "import numpy as np\r\n",
        "\r\n",
        "actores = 10\r\n",
        "escenas = 30\r\n",
        "\r\n",
        "matriz_aleatoria = np.random.rand(escenas, actores)\r\n",
        "print(matriz_aleatoria)"
      ],
      "execution_count": 18,
      "outputs": [
        {
          "output_type": "stream",
          "text": [
            "[[0.19736899 0.22182738 0.93866742 0.37583878 0.79700098 0.1863104\n",
            "  0.87838604 0.66137092 0.37603617 0.11731257]\n",
            " [0.68930276 0.40260781 0.93681915 0.12814687 0.95599309 0.91474191\n",
            "  0.81881301 0.81025585 0.01992762 0.18523222]\n",
            " [0.82144905 0.33051291 0.39963273 0.27383879 0.00953387 0.71740378\n",
            "  0.84253705 0.00584331 0.33408762 0.63478675]\n",
            " [0.97576767 0.04105658 0.9735101  0.44102769 0.15825607 0.22211994\n",
            "  0.43238401 0.44988351 0.19020953 0.21062773]\n",
            " [0.19738821 0.40849943 0.73404656 0.73454212 0.5111224  0.92816219\n",
            "  0.39032854 0.6919811  0.05662403 0.64553267]\n",
            " [0.51325286 0.04328713 0.89696201 0.08707778 0.04380563 0.61551131\n",
            "  0.45449695 0.91585375 0.42297142 0.31624605]\n",
            " [0.12730551 0.52055773 0.61175635 0.32549987 0.80207032 0.48896589\n",
            "  0.19355687 0.41979333 0.06710847 0.97145354]\n",
            " [0.46783493 0.23157616 0.81684605 0.04642844 0.7804358  0.59689274\n",
            "  0.87355035 0.05492757 0.44661805 0.11685645]\n",
            " [0.79641965 0.79931056 0.36745606 0.20746401 0.51415566 0.53587118\n",
            "  0.80869569 0.72869969 0.16856025 0.54548952]\n",
            " [0.98195403 0.21321322 0.11189565 0.05221005 0.78108518 0.31851172\n",
            "  0.12768495 0.15438964 0.19764537 0.79338811]\n",
            " [0.92830724 0.97143311 0.89376467 0.67173377 0.66217477 0.68033117\n",
            "  0.14757926 0.74058559 0.19360491 0.63231294]\n",
            " [0.03422425 0.5481565  0.23245785 0.95692699 0.69702788 0.69891405\n",
            "  0.02529578 0.91938692 0.24576349 0.98774546]\n",
            " [0.99223254 0.21138776 0.69149677 0.29656422 0.23443121 0.0701439\n",
            "  0.0375024  0.67920808 0.70432853 0.01719039]\n",
            " [0.75439    0.1273042  0.06881073 0.21977702 0.31072834 0.93129617\n",
            "  0.28292814 0.9509534  0.02698132 0.91590912]\n",
            " [0.96643675 0.98007248 0.12783345 0.96503853 0.50967237 0.83044542\n",
            "  0.08122404 0.11761131 0.70989869 0.46959049]\n",
            " [0.73934012 0.15268153 0.56373674 0.78571824 0.45924633 0.36948896\n",
            "  0.8761333  0.93992669 0.96599244 0.90652945]\n",
            " [0.40598429 0.58283331 0.8781609  0.68549221 0.34286556 0.81544076\n",
            "  0.02919778 0.0198938  0.72357848 0.81429928]\n",
            " [0.65005139 0.06796256 0.77604545 0.76961159 0.79560249 0.14984722\n",
            "  0.61090447 0.52071844 0.71015803 0.12890436]\n",
            " [0.76165972 0.52292904 0.0657538  0.86302912 0.49316495 0.10846082\n",
            "  0.71603643 0.56792231 0.10245956 0.16785406]\n",
            " [0.14377198 0.32328963 0.13206086 0.63273403 0.21326689 0.11943321\n",
            "  0.9242312  0.46982608 0.95904199 0.77535136]\n",
            " [0.26490951 0.30788783 0.04932298 0.11588902 0.65990071 0.57800158\n",
            "  0.25414471 0.64001317 0.64163201 0.82827547]\n",
            " [0.07601855 0.24513519 0.14557522 0.25414044 0.64184572 0.15292417\n",
            "  0.94474356 0.86346431 0.61853975 0.7828977 ]\n",
            " [0.89888474 0.60246252 0.61394075 0.53748284 0.91334583 0.58105648\n",
            "  0.33731765 0.76739997 0.55516768 0.3201103 ]\n",
            " [0.86223666 0.67190676 0.4710185  0.65918069 0.04910187 0.61270412\n",
            "  0.21792757 0.74659304 0.00166091 0.14379519]\n",
            " [0.21379876 0.55891621 0.85904514 0.7419861  0.78990965 0.91112625\n",
            "  0.48553882 0.81520616 0.0673873  0.08239797]\n",
            " [0.47566399 0.49744502 0.60175748 0.05662644 0.21921901 0.29691717\n",
            "  0.19427007 0.2425769  0.17425627 0.82664475]\n",
            " [0.24755342 0.06257563 0.38954631 0.0179465  0.65709091 0.10851511\n",
            "  0.06499066 0.60858404 0.18173841 0.26085522]\n",
            " [0.68021442 0.0886666  0.61914937 0.90176785 0.43418388 0.83182451\n",
            "  0.17054773 0.97970248 0.82152778 0.97321268]\n",
            " [0.55433543 0.69162975 0.54131705 0.99360533 0.21326389 0.23013278\n",
            "  0.40024113 0.07481246 0.42386126 0.42954786]\n",
            " [0.46846346 0.49352814 0.98535049 0.52671644 0.44147854 0.94500787\n",
            "  0.96425671 0.18800701 0.51598092 0.79509753]]\n"
          ],
          "name": "stdout"
        }
      ]
    },
    {
      "cell_type": "markdown",
      "metadata": {
        "id": "zy5ZROmjlGo1"
      },
      "source": [
        "Aplica el algoritmo al juego de datos generado"
      ]
    },
    {
      "cell_type": "markdown",
      "metadata": {
        "id": "_Cmj-PVylMsa"
      },
      "source": [
        "Respuesta"
      ]
    },
    {
      "cell_type": "code",
      "metadata": {
        "id": "Jkx8GeiYlUz1"
      },
      "source": [
        "import math \r\n",
        "math.inf\r\n",
        "\r\n",
        "actores = [1, 2, 3, 4, 5, 6, 7, 8, 9, 10]\r\n",
        "escenas = [1, 2, 3, 4, 5, 6, 7, 8, 9, 10, 11, 12, 13, 14, 15, 16, 17, 18, 19, 20, 21, 22, 23, 24, 25, 26, 27, 28, 29, 30]\r\n",
        "costo = [[0.19736899 0.22182738 0.93866742 0.37583878 0.79700098 0.1863104\r\n",
        "  0.87838604 0.66137092 0.37603617 0.11731257]\r\n",
        " [0.68930276 0.40260781 0.93681915 0.12814687 0.95599309 0.91474191\r\n",
        "  0.81881301 0.81025585 0.01992762 0.18523222]\r\n",
        " [0.82144905 0.33051291 0.39963273 0.27383879 0.00953387 0.71740378\r\n",
        "  0.84253705 0.00584331 0.33408762 0.63478675]\r\n",
        " [0.97576767 0.04105658 0.9735101  0.44102769 0.15825607 0.22211994\r\n",
        "  0.43238401 0.44988351 0.19020953 0.21062773]\r\n",
        " [0.19738821 0.40849943 0.73404656 0.73454212 0.5111224  0.92816219\r\n",
        "  0.39032854 0.6919811  0.05662403 0.64553267]\r\n",
        " [0.51325286 0.04328713 0.89696201 0.08707778 0.04380563 0.61551131\r\n",
        "  0.45449695 0.91585375 0.42297142 0.31624605]\r\n",
        " [0.12730551 0.52055773 0.61175635 0.32549987 0.80207032 0.48896589\r\n",
        "  0.19355687 0.41979333 0.06710847 0.97145354]\r\n",
        " [0.46783493 0.23157616 0.81684605 0.04642844 0.7804358  0.59689274\r\n",
        "  0.87355035 0.05492757 0.44661805 0.11685645]\r\n",
        " [0.79641965 0.79931056 0.36745606 0.20746401 0.51415566 0.53587118\r\n",
        "  0.80869569 0.72869969 0.16856025 0.54548952]\r\n",
        " [0.98195403 0.21321322 0.11189565 0.05221005 0.78108518 0.31851172\r\n",
        "  0.12768495 0.15438964 0.19764537 0.79338811]\r\n",
        " [0.92830724 0.97143311 0.89376467 0.67173377 0.66217477 0.68033117\r\n",
        "  0.14757926 0.74058559 0.19360491 0.63231294]\r\n",
        " [0.03422425 0.5481565  0.23245785 0.95692699 0.69702788 0.69891405\r\n",
        "  0.02529578 0.91938692 0.24576349 0.98774546]\r\n",
        " [0.99223254 0.21138776 0.69149677 0.29656422 0.23443121 0.0701439\r\n",
        "  0.0375024  0.67920808 0.70432853 0.01719039]\r\n",
        " [0.75439    0.1273042  0.06881073 0.21977702 0.31072834 0.93129617\r\n",
        "  0.28292814 0.9509534  0.02698132 0.91590912]\r\n",
        " [0.96643675 0.98007248 0.12783345 0.96503853 0.50967237 0.83044542\r\n",
        "  0.08122404 0.11761131 0.70989869 0.46959049]\r\n",
        " [0.73934012 0.15268153 0.56373674 0.78571824 0.45924633 0.36948896\r\n",
        "  0.8761333  0.93992669 0.96599244 0.90652945]\r\n",
        " [0.40598429 0.58283331 0.8781609  0.68549221 0.34286556 0.81544076\r\n",
        "  0.02919778 0.0198938  0.72357848 0.81429928]\r\n",
        " [0.65005139 0.06796256 0.77604545 0.76961159 0.79560249 0.14984722\r\n",
        "  0.61090447 0.52071844 0.71015803 0.12890436]\r\n",
        " [0.76165972 0.52292904 0.0657538  0.86302912 0.49316495 0.10846082\r\n",
        "  0.71603643 0.56792231 0.10245956 0.16785406]\r\n",
        " [0.14377198 0.32328963 0.13206086 0.63273403 0.21326689 0.11943321\r\n",
        "  0.9242312  0.46982608 0.95904199 0.77535136]\r\n",
        " [0.26490951 0.30788783 0.04932298 0.11588902 0.65990071 0.57800158\r\n",
        "  0.25414471 0.64001317 0.64163201 0.82827547]\r\n",
        " [0.07601855 0.24513519 0.14557522 0.25414044 0.64184572 0.15292417\r\n",
        "  0.94474356 0.86346431 0.61853975 0.7828977 ]\r\n",
        " [0.89888474 0.60246252 0.61394075 0.53748284 0.91334583 0.58105648\r\n",
        "  0.33731765 0.76739997 0.55516768 0.3201103 ]\r\n",
        " [0.86223666 0.67190676 0.4710185  0.65918069 0.04910187 0.61270412\r\n",
        "  0.21792757 0.74659304 0.00166091 0.14379519]\r\n",
        " [0.21379876 0.55891621 0.85904514 0.7419861  0.78990965 0.91112625\r\n",
        "  0.48553882 0.81520616 0.0673873  0.08239797]\r\n",
        " [0.47566399 0.49744502 0.60175748 0.05662644 0.21921901 0.29691717\r\n",
        "  0.19427007 0.2425769  0.17425627 0.82664475]\r\n",
        " [0.24755342 0.06257563 0.38954631 0.0179465  0.65709091 0.10851511\r\n",
        "  0.06499066 0.60858404 0.18173841 0.26085522]\r\n",
        " [0.68021442 0.0886666  0.61914937 0.90176785 0.43418388 0.83182451\r\n",
        "  0.17054773 0.97970248 0.82152778 0.97321268]\r\n",
        " [0.55433543 0.69162975 0.54131705 0.99360533 0.21326389 0.23013278\r\n",
        "  0.40024113 0.07481246 0.42386126 0.42954786]\r\n",
        " [0.46846346 0.49352814 0.98535049 0.52671644 0.44147854 0.94500787\r\n",
        "  0.96425671 0.18800701 0.51598092 0.79509753]]\r\n",
        "\r\n",
        "N = len(costo)\r\n",
        "costoq = [[\"\"]*N for i in [\"\"]*N]\r\n",
        "\r\n",
        "\r\n",
        "for i in range(N-1):\r\n",
        "  for j in range(i+1, N):\r\n",
        "    MIN = costo[i][j]\r\n",
        "    costoq[i][j] = i\r\n",
        "\r\n",
        "    for k in range(i, j):\r\n",
        "      if costo[i][k] + escenas[i][k] < MIN:\r\n",
        "        MIN = min(MIN, costoq[i][k]+ costo[i][k])\r\n",
        "        costoq[i][j] = k\r\n",
        "      costo [i][j] = MIN\r\n",
        "\r\n",
        "return costo, costoq"
      ],
      "execution_count": null,
      "outputs": []
    },
    {
      "cell_type": "markdown",
      "metadata": {
        "id": "eTFWUJQrtGcv"
      },
      "source": [
        "Enumera las referencias que has utilizado(si ha sido necesario) para llevar a cabo el trabajo"
      ]
    },
    {
      "cell_type": "markdown",
      "metadata": {
        "id": "2CP--GCxrKU6"
      },
      "source": [
        "1) Seymour Lipschutz, Ph.D.Estructura de datos.Editorial Revolucionaria.2002\r\n",
        "2) https://es.wikipedia.org/wiki/Estructura_de_datos\r\n",
        "3) Algoritmos y estructuras de Datos. Bottazzi, Cristian, Costarelli, Santiago.\r\n"
      ]
    },
    {
      "cell_type": "markdown",
      "metadata": {
        "id": "kAkDPUyRtYyH"
      },
      "source": [
        "Describe brevemente las lineas de como crees que es posible avanzar en el estudio del problema. Ten en cuenta incluso posibles variaciones del problema y/o variaciones al alza del tamaño"
      ]
    },
    {
      "cell_type": "markdown",
      "metadata": {
        "id": "IE0uZmo-tZu-"
      },
      "source": [
        "Respuesta"
      ]
    },
    {
      "cell_type": "markdown",
      "metadata": {
        "id": "rNhmoLTdZygL"
      },
      "source": [
        "Se puede avanzar en el problema estudiando los algoritmos geneticos o profundizar más en el descenso del gradiente.\r\n",
        "Las posibles variaciones en tamaño de los datos puede hacer que por costo computacional los calculos se vuelvan demasiado lentos o que el algoritmo tome demasiado tiempo en completar.\r\n"
      ]
    }
  ]
}