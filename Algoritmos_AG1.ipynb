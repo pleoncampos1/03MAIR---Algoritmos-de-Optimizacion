{
  "nbformat": 4,
  "nbformat_minor": 0,
  "metadata": {
    "colab": {
      "name": "Algoritmos - AG1.ipynb",
      "provenance": [],
      "collapsed_sections": [],
      "authorship_tag": "ABX9TyOwrB/KMgGMBJAbNi3t28Yl",
      "include_colab_link": true
    },
    "kernelspec": {
      "name": "python3",
      "display_name": "Python 3"
    }
  },
  "cells": [
    {
      "cell_type": "markdown",
      "metadata": {
        "id": "view-in-github",
        "colab_type": "text"
      },
      "source": [
        "<a href=\"https://colab.research.google.com/github/pleoncampos1/03MAIR---Algoritmos-de-Optimizacion/blob/feature/Algoritmos_AG1.ipynb\" target=\"_parent\"><img src=\"https://colab.research.google.com/assets/colab-badge.svg\" alt=\"Open In Colab\"/></a>"
      ]
    },
    {
      "cell_type": "markdown",
      "metadata": {
        "id": "qhFNamDdVHn3"
      },
      "source": [
        "#Algoritmos - Actividad Guiada 1\r\n",
        "\r\n",
        "Nombre: Piero Leon <br>\r\n",
        "URL: [https://colab.research.google.com/drive/10Fx2njA00mnG4EvLvNF3PmfAeydQlDn0?usp=sharing](https://colab.research.google.com/drive/10Fx2njA00mnG4EvLvNF3PmfAeydQlDn0?usp=sharing)"
      ]
    },
    {
      "cell_type": "markdown",
      "metadata": {
        "id": "p7kt_AFxXGre"
      },
      "source": [
        "##Torres de Hanoi con Divide y Vencerás"
      ]
    },
    {
      "cell_type": "code",
      "metadata": {
        "colab": {
          "base_uri": "https://localhost:8080/"
        },
        "id": "7ctIFOlRXL0V",
        "outputId": "a4a4b89e-ab17-4884-f549-ba4ec8991e64"
      },
      "source": [
        "def Torres_Hanoi(N, desde, hasta):\r\n",
        "  if N == 1 :\r\n",
        "    print(\"Lleva la ficha \", desde, \" hasta \", hasta )\r\n",
        "\r\n",
        "  else:\r\n",
        "    Torres_Hanoi(N-1, desde, 6-desde-hasta )\r\n",
        "    print(\"Lleva la ficha \", desde, \" hasta \", hasta )\r\n",
        "    Torres_Hanoi(N-1, 6-desde-hasta, hasta )\r\n",
        "\r\n",
        "\r\n",
        "Torres_Hanoi(6, 1, 3)\r\n"
      ],
      "execution_count": null,
      "outputs": [
        {
          "output_type": "stream",
          "text": [
            "Lleva la ficha  1  hasta  2\n",
            "Lleva la ficha  1  hasta  3\n",
            "Lleva la ficha  2  hasta  3\n",
            "Lleva la ficha  1  hasta  2\n",
            "Lleva la ficha  3  hasta  1\n",
            "Lleva la ficha  3  hasta  2\n",
            "Lleva la ficha  1  hasta  2\n",
            "Lleva la ficha  1  hasta  3\n",
            "Lleva la ficha  2  hasta  3\n",
            "Lleva la ficha  2  hasta  1\n",
            "Lleva la ficha  3  hasta  1\n",
            "Lleva la ficha  2  hasta  3\n",
            "Lleva la ficha  1  hasta  2\n",
            "Lleva la ficha  1  hasta  3\n",
            "Lleva la ficha  2  hasta  3\n",
            "Lleva la ficha  1  hasta  2\n",
            "Lleva la ficha  3  hasta  1\n",
            "Lleva la ficha  3  hasta  2\n",
            "Lleva la ficha  1  hasta  2\n",
            "Lleva la ficha  3  hasta  1\n",
            "Lleva la ficha  2  hasta  3\n",
            "Lleva la ficha  2  hasta  1\n",
            "Lleva la ficha  3  hasta  1\n",
            "Lleva la ficha  3  hasta  2\n",
            "Lleva la ficha  1  hasta  2\n",
            "Lleva la ficha  1  hasta  3\n",
            "Lleva la ficha  2  hasta  3\n",
            "Lleva la ficha  1  hasta  2\n",
            "Lleva la ficha  3  hasta  1\n",
            "Lleva la ficha  3  hasta  2\n",
            "Lleva la ficha  1  hasta  2\n",
            "Lleva la ficha  1  hasta  3\n",
            "Lleva la ficha  2  hasta  3\n",
            "Lleva la ficha  2  hasta  1\n",
            "Lleva la ficha  3  hasta  1\n",
            "Lleva la ficha  2  hasta  3\n",
            "Lleva la ficha  1  hasta  2\n",
            "Lleva la ficha  1  hasta  3\n",
            "Lleva la ficha  2  hasta  3\n",
            "Lleva la ficha  2  hasta  1\n",
            "Lleva la ficha  3  hasta  1\n",
            "Lleva la ficha  3  hasta  2\n",
            "Lleva la ficha  1  hasta  2\n",
            "Lleva la ficha  3  hasta  1\n",
            "Lleva la ficha  2  hasta  3\n",
            "Lleva la ficha  2  hasta  1\n",
            "Lleva la ficha  3  hasta  1\n",
            "Lleva la ficha  2  hasta  3\n",
            "Lleva la ficha  1  hasta  2\n",
            "Lleva la ficha  1  hasta  3\n",
            "Lleva la ficha  2  hasta  3\n",
            "Lleva la ficha  1  hasta  2\n",
            "Lleva la ficha  3  hasta  1\n",
            "Lleva la ficha  3  hasta  2\n",
            "Lleva la ficha  1  hasta  2\n",
            "Lleva la ficha  1  hasta  3\n",
            "Lleva la ficha  2  hasta  3\n",
            "Lleva la ficha  2  hasta  1\n",
            "Lleva la ficha  3  hasta  1\n",
            "Lleva la ficha  2  hasta  3\n",
            "Lleva la ficha  1  hasta  2\n",
            "Lleva la ficha  1  hasta  3\n",
            "Lleva la ficha  2  hasta  3\n"
          ],
          "name": "stdout"
        }
      ]
    },
    {
      "cell_type": "markdown",
      "metadata": {
        "id": "5jsU0z-bTDPV"
      },
      "source": [
        "##Devolución de cambio por técnica voraz\r\n"
      ]
    },
    {
      "cell_type": "code",
      "metadata": {
        "colab": {
          "base_uri": "https://localhost:8080/"
        },
        "id": "vjJGOSelUyen",
        "outputId": "166435dd-b42b-4cc7-8291-07acedeec633"
      },
      "source": [
        "Sistema_Monetario = [25, 10, 5, 1]\r\n",
        "\r\n",
        "def cambio_monedas(N=1, SM=Sistema_Monetario):\r\n",
        "  \r\n",
        "  ValorAcumulado = 0\r\n",
        "\r\n",
        "  SOL = [0]*len(SM)   #SOLUCION = [0, 0, 0, 0]\r\n",
        "\r\n",
        "  for i, m in enumerate(SM):\r\n",
        "    monedas = int((N - ValorAcumulado)/m)\r\n",
        "    SOL[i] = monedas\r\n",
        "    ValorAcumulado = ValorAcumulado + monedas*m\r\n",
        "    if ValorAcumulado == N:\r\n",
        "      return SOL\r\n",
        "\r\n",
        "print(cambio_monedas(N=124, SM=Sistema_Monetario))"
      ],
      "execution_count": 2,
      "outputs": [
        {
          "output_type": "stream",
          "text": [
            "[4, 2, 0, 4]\n"
          ],
          "name": "stdout"
        }
      ]
    },
    {
      "cell_type": "markdown",
      "metadata": {
        "id": "CpfsOyjAcQov"
      },
      "source": [
        "##N-Reinas por Técnica de Vuelta Atrás\r\n"
      ]
    },
    {
      "cell_type": "code",
      "metadata": {
        "id": "xks9aAy4cU6H"
      },
      "source": [
        "def es_prometedora(SOLUCION, etapa):\r\n",
        "  #print(SOLUCION)\r\n",
        "  #Si la solucion tiene dos valores iguales no es valida => Dos reinas en la misma fila\r\n",
        "  for i in range(etapa+1):\r\n",
        "    #print(\"El valor \" + str(SOLUCION[i]) + \" está \" + str(SOLUCION.count(SOLUCION[i])) + \"veces\")\r\n",
        "    if SOLUCION.count(SOLUCION[i]) > 1:       \r\n",
        "      return False\r\n",
        "\r\n",
        "    #verifica las diagonales\r\n",
        "    for j in range(i+1, etapa +1 ):\r\n",
        "      #print(\"Comprobando diagonal de \" + str(i) + \" y \" + str(j))\r\n",
        "      if abs(i-j)) == abs(SOLUCION[i]-SOLUCION[j]) : return False\r\n",
        "  return True\r\n",
        "  \r\n",
        "\r\n",
        "def reinas(N, solucion, etapa):   #Tamaño del tablero\r\n",
        "  \r\n",
        "  for i in range(1,N+1):\r\n",
        "    solucion[etapa] = i\r\n",
        "\r\n",
        "    #print(solucion)\r\n",
        "    if es_prometedora(solucion,etapa):\r\n",
        "      if etapa == N-1:\r\n",
        "        print(\"\\n\\nLa solución es:\")\r\n",
        "        print(solucion)\r\n",
        "        escribe(solucion)\r\n",
        "      else:\r\n",
        "        #print(\"Es prometedora\\n############\")\r\n",
        "        reinas(N, solucion, etapa+1)\r\n",
        "    else:\r\n",
        "      #print(\"NO PROMETEDORA\\n##############\")\r\n",
        "      None\r\n",
        "\r\n",
        "    solucion[etapa] =  0\r\n",
        "\r\n",
        "reinas(4)"
      ],
      "execution_count": null,
      "outputs": []
    }
  ]
}